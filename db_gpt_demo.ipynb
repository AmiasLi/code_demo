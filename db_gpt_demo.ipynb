{
  "nbformat": 4,
  "nbformat_minor": 0,
  "metadata": {
    "colab": {
      "provenance": [],
      "authorship_tag": "ABX9TyPBOWUCcMWczX7+UCfxzMSB",
      "include_colab_link": true
    },
    "kernelspec": {
      "name": "python3",
      "display_name": "Python 3"
    },
    "language_info": {
      "name": "python"
    }
  },
  "cells": [
    {
      "cell_type": "markdown",
      "metadata": {
        "id": "view-in-github",
        "colab_type": "text"
      },
      "source": [
        "<a href=\"https://colab.research.google.com/github/AmiasLi/code_demo/blob/main/db_gpt_demo.ipynb\" target=\"_parent\"><img src=\"https://colab.research.google.com/assets/colab-badge.svg\" alt=\"Open In Colab\"/></a>"
      ]
    },
    {
      "cell_type": "code",
      "execution_count": 1,
      "metadata": {
        "colab": {
          "base_uri": "https://localhost:8080/"
        },
        "id": "sqgk8Qw_c-ci",
        "outputId": "00cd1213-7b19-4b26-ca08-473db7e8ac76"
      },
      "outputs": [
        {
          "output_type": "stream",
          "name": "stdout",
          "text": [
            "Cloning into 'DB-GPT'...\n",
            "remote: Enumerating objects: 26436, done.\u001b[K\n",
            "remote: Counting objects: 100% (26436/26436), done.\u001b[K\n",
            "remote: Compressing objects: 100% (8300/8300), done.\u001b[K\n",
            "remote: Total 26436 (delta 17231), reused 26267 (delta 17171), pack-reused 0\u001b[K\n",
            "Receiving objects: 100% (26436/26436), 162.21 MiB | 34.08 MiB/s, done.\n",
            "Resolving deltas: 100% (17231/17231), done.\n"
          ]
        }
      ],
      "source": [
        "!git clone https://github.com/eosphoros-ai/DB-GPT.git"
      ]
    },
    {
      "cell_type": "code",
      "source": [
        "!ls -hl"
      ],
      "metadata": {
        "colab": {
          "base_uri": "https://localhost:8080/"
        },
        "id": "c1mZta0pdO1H",
        "outputId": "ad7b4996-d71f-46d4-e29e-489f5bef8d2a"
      },
      "execution_count": 4,
      "outputs": [
        {
          "output_type": "stream",
          "name": "stdout",
          "text": [
            "total 8.0K\n",
            "drwxr-xr-x 14 root root 4.0K Nov 11 12:56 DB-GPT\n",
            "drwxr-xr-x  1 root root 4.0K Nov  9 14:25 sample_data\n"
          ]
        }
      ]
    },
    {
      "cell_type": "code",
      "source": [
        "!conda create -n dbgpt_env python=3.10"
      ],
      "metadata": {
        "colab": {
          "base_uri": "https://localhost:8080/"
        },
        "id": "oqI1K8cQdm8S",
        "outputId": "44d5fe51-f20c-4446-b48c-63773b27459f"
      },
      "execution_count": 5,
      "outputs": [
        {
          "output_type": "stream",
          "name": "stdout",
          "text": [
            "/bin/bash: line 1: conda: command not found\n"
          ]
        }
      ]
    },
    {
      "cell_type": "code",
      "source": [],
      "metadata": {
        "id": "r2cw5_uwdwmY"
      },
      "execution_count": null,
      "outputs": []
    }
  ]
}